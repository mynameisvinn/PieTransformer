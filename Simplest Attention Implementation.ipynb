{
 "cells": [
  {
   "cell_type": "markdown",
   "metadata": {},
   "source": [
    "## generating the dataset\n",
    "we generate {X, y} from scratch. $X$ is a ndim array of features. $y$ is the corresponding target, and equals XOR of $X_1$ and $X_2$ (ie $y$ is true if either $X_1$ or $X_2$ is true, otherwise it is false). all other features in $X$ is random uniform noise.\n",
    "\n",
    "## which features should the attention vector attend to?\n",
    "since $y$ is XOR of $X_1$ and $X_2$, we would expect the attention vector to attend to both $X_1$ and $X_2$. (knowing either $X_1$ and $X_2$ is insufficient.)\n",
    "\n",
    "moreover, since all other features in $X$ is random noise - and therefore are uninformative features - we would expect attention vector to ignore all other features."
   ]
  },
  {
   "cell_type": "code",
   "execution_count": 1,
   "metadata": {},
   "outputs": [
    {
     "name": "stderr",
     "output_type": "stream",
     "text": [
      "/Users/vincenttang/anaconda3/lib/python3.7/importlib/_bootstrap.py:219: RuntimeWarning: compiletime version 3.6 of module 'tensorflow.python.framework.fast_tensor_util' does not match runtime version 3.7\n",
      "  return f(*args, **kwds)\n"
     ]
    }
   ],
   "source": [
    "import numpy as np\n",
    "import tensorflow as tf\n",
    "import matplotlib.pyplot as plt\n",
    "plt.style.use(\"ggplot\")\n",
    "%matplotlib inline"
   ]
  },
  {
   "cell_type": "code",
   "execution_count": 2,
   "metadata": {},
   "outputs": [],
   "source": [
    "# generate data from scratch\n",
    "n_samples = 10000\n",
    "n_features = 16\n",
    "\n",
    "X = np.random.uniform(low=-5, high=5, size=(n_samples, n_features))"
   ]
  },
  {
   "cell_type": "code",
   "execution_count": 3,
   "metadata": {},
   "outputs": [],
   "source": [
    "# set X1 and X2 to either 0 or 1\n",
    "X[:, 0] = X[:, 0] > 0  # feature 0\n",
    "X[:, 1] = X[:, 1] > 0  # feature 1"
   ]
  },
  {
   "cell_type": "code",
   "execution_count": 4,
   "metadata": {},
   "outputs": [],
   "source": [
    "# generate corresponding target y data\n",
    "y = np.logical_xor(X[:, 0], X[:, 1]) * 1  # y = XOR(X1, X2)\n",
    "\n",
    "n_classes = 2\n",
    "y = np.eye(n_classes)[y]  # convert y to one-hot encoding"
   ]
  },
  {
   "cell_type": "code",
   "execution_count": 5,
   "metadata": {},
   "outputs": [],
   "source": [
    "# attention vector has n_hidden dim, which must equal input ndim since it masks inputs\n",
    "n_hidden = n_features"
   ]
  },
  {
   "cell_type": "code",
   "execution_count": 6,
   "metadata": {},
   "outputs": [
    {
     "name": "stdout",
     "output_type": "stream",
     "text": [
      "WARNING:tensorflow:From /Users/vincenttang/anaconda3/lib/python3.7/site-packages/tensorflow/python/framework/op_def_library.py:263: colocate_with (from tensorflow.python.framework.ops) is deprecated and will be removed in a future version.\n",
      "Instructions for updating:\n",
      "Colocations handled automatically by placer.\n"
     ]
    }
   ],
   "source": [
    "# construct feed forward network with attention \n",
    "tf.reset_default_graph()\n",
    "\n",
    "X_ = tf.placeholder(tf.float32, shape=[None, n_features], name=\"input\")\n",
    "y_ = tf.placeholder(tf.float32, shape=[None, n_classes], name=\"label\")\n",
    "\n",
    "with tf.variable_scope(\"parameters\"):\n",
    "    w1 = tf.get_variable(\"w1\", shape=([n_features, n_hidden]), initializer=tf.random_normal_initializer())\n",
    "    b1 = tf.get_variable(\"b1\", shape=([n_hidden]))\n",
    "    \n",
    "    w2 = tf.get_variable(\"w2\", shape=([n_hidden, n_classes]), initializer=tf.random_normal_initializer())\n",
    "    b2 = tf.get_variable(\"b2\", shape=([n_classes]))\n",
    "\n",
    "z1 = tf.matmul(X_, w1) + b1\n",
    "attention_probs = tf.nn.softmax(z1)  # attention vector\n",
    "attention_mul = tf.multiply(attention_probs, X_)  # element wise multiplication\n",
    "z2 = tf.matmul(attention_mul, w2) + b2\n",
    "\n",
    "loss = tf.reduce_mean(tf.nn.sigmoid_cross_entropy_with_logits(labels = y_, logits = z2))\n",
    "op = tf.train.AdamOptimizer(1e-2).minimize(loss)\n",
    "\n",
    "init = tf.global_variables_initializer()"
   ]
  },
  {
   "cell_type": "code",
   "execution_count": 7,
   "metadata": {},
   "outputs": [
    {
     "name": "stdout",
     "output_type": "stream",
     "text": [
      "epoch 0 loss: 1.330\n",
      "epoch 500 loss: 0.679\n",
      "epoch 1000 loss: 0.701\n",
      "epoch 1500 loss: 0.676\n",
      "epoch 2000 loss: 0.545\n",
      "epoch 2500 loss: 0.162\n",
      "epoch 3000 loss: 0.017\n",
      "epoch 3500 loss: 0.010\n",
      "epoch 4000 loss: 0.005\n",
      "epoch 4500 loss: 0.003\n"
     ]
    }
   ],
   "source": [
    "n_epochs = 5000\n",
    "batch_size = 64\n",
    "\n",
    "with tf.Session() as sess:\n",
    "    sess.run(init)\n",
    "    \n",
    "    for epoch in range(n_epochs):\n",
    "        \n",
    "        # fetch batches from dataset\n",
    "        mb_indices = np.random.choice(X.shape[0], batch_size)\n",
    "        X_train = X[mb_indices]\n",
    "        y_train = y[mb_indices]\n",
    "        \n",
    "        # fit\n",
    "        _, loss_ = sess.run([op, loss], feed_dict={X_:X_train, y_:y_train})\n",
    "        \n",
    "        # inspect\n",
    "        if epoch % (n_epochs / 10) == 0:\n",
    "            print(\"epoch {} loss: {:.3f}\".format(epoch, loss_))\n",
    "    \n",
    "    # grab attention vector\n",
    "    attention_vector = sess.run(attention_probs, feed_dict={X_:X, y_:y})"
   ]
  },
  {
   "cell_type": "code",
   "execution_count": 8,
   "metadata": {},
   "outputs": [
    {
     "data": {
      "text/plain": [
       "Text(0.5, 1.0, 'attention vector')"
      ]
     },
     "execution_count": 8,
     "metadata": {},
     "output_type": "execute_result"
    },
    {
     "data": {
      "image/png": "[encoded data removed]",
      "text/plain": [
       "<Figure size 432x288 with 1 Axes>"
      ]
     },
     "metadata": {
      "needs_background": "light"
     },
     "output_type": "display_data"
    }
   ],
   "source": [
    "# which features should we attend to?\n",
    "plt.bar(x = np.arange(n_features), height = np.mean(attention_vector, axis=0))\n",
    "plt.xlabel(\"feature\")\n",
    "plt.ylabel(\"attention\")\n",
    "plt.title(\"attention vector\")"
   ]
  },
  {
   "cell_type": "code",
   "execution_count": null,
   "metadata": {},
   "outputs": [],
   "source": []
  }
 ],
 "metadata": {
  "kernelspec": {
   "display_name": "Python 3",
   "language": "python",
   "name": "python3"
  },
  "language_info": {
   "codemirror_mode": {
    "name": "ipython",
    "version": 3
   },
   "file_extension": ".py",
   "mimetype": "text/x-python",
   "name": "python",
   "nbconvert_exporter": "python",
   "pygments_lexer": "ipython3",
   "version": "3.7.3"
  }
 },
 "nbformat": 4,
 "nbformat_minor": 2
}
