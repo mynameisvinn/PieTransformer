{
 "cells": [
  {
   "cell_type": "markdown",
   "metadata": {},
   "source": [
    "## generating the dataset\n",
    "we generate {X, y} from scratch. $X$ is a ndim array of features. $y$ is the corresponding target, and equals XOR of $X_1$ and $X_2$ (ie $y$ is true if either $X_1$ or $X_2$ is true, otherwise it is false). all other features in $X$ is random uniform noise.\n",
    "\n",
    "## which features should the attention vector attend to?\n",
    "since $y$ is XOR of $X_1$ and $X_2$, we would expect the attention vector to attend to both $X_1$ and $X_2$. (knowing either $X_1$ and $X_2$ is insufficient.)\n",
    "\n",
    "moreover, since all other features in $X$ is random noise - and therefore are uninformative features - we would expect attention vector to ignore all other features."
   ]
  },
  {
   "cell_type": "code",
   "execution_count": 1,
   "metadata": {},
   "outputs": [],
   "source": [
    "%matplotlib inline\n",
    "\n",
    "from IPython.core.interactiveshell import InteractiveShell\n",
    "InteractiveShell.ast_node_interactivity = \"all\"\n",
    "\n",
    "import numpy as np\n",
    "import matplotlib.pyplot as plt\n",
    "plt.style.use(\"ggplot\")\n",
    "\n",
    "import torch\n",
    "from torch import nn\n",
    "from torch import optim\n",
    "import torch.nn.functional as F\n",
    "\n",
    "torch.set_default_dtype(torch.float64)"
   ]
  },
  {
   "cell_type": "code",
   "execution_count": 2,
   "metadata": {},
   "outputs": [],
   "source": [
    "# generate data from scratch\n",
    "n_samples = 10000\n",
    "n_features = 16\n",
    "\n",
    "# attention vector has n_hidden dim, which must equal input ndim since it masks inputs\n",
    "n_hidden = n_features\n",
    "\n",
    "X = np.random.uniform(low=-5, high=5, size=(n_samples, n_features))"
   ]
  },
  {
   "cell_type": "code",
   "execution_count": 3,
   "metadata": {},
   "outputs": [],
   "source": [
    "# set X1 and X2 to either 0 or 1\n",
    "X[:, 0] = X[:, 0] > 0  # feature 0\n",
    "X[:, 1] = X[:, 1] > 0  # feature 1"
   ]
  },
  {
   "cell_type": "code",
   "execution_count": 4,
   "metadata": {},
   "outputs": [],
   "source": [
    "# generate corresponding target y data\n",
    "y = np.logical_xor(X[:, 0], X[:, 1]) * 1  # y = XOR(X1, X2)\n",
    "\n",
    "n_classes = 2\n",
    "y = np.eye(n_classes)[y]  # convert y to one-hot encoding"
   ]
  },
  {
   "cell_type": "code",
   "execution_count": 5,
   "metadata": {},
   "outputs": [
    {
     "data": {
      "text/plain": [
       "array([1., 0., 0., 1., 1.])"
      ]
     },
     "execution_count": 5,
     "metadata": {},
     "output_type": "execute_result"
    },
    {
     "data": {
      "text/plain": [
       "array([0., 1., 1., 1., 1.])"
      ]
     },
     "execution_count": 5,
     "metadata": {},
     "output_type": "execute_result"
    },
    {
     "data": {
      "text/plain": [
       "array([[0., 1.],\n",
       "       [0., 1.],\n",
       "       [0., 1.],\n",
       "       [1., 0.],\n",
       "       [1., 0.]])"
      ]
     },
     "execution_count": 5,
     "metadata": {},
     "output_type": "execute_result"
    }
   ],
   "source": [
    "X[:5, 0]\n",
    "X[:5, 1]\n",
    "y[:5]"
   ]
  },
  {
   "cell_type": "code",
   "execution_count": 6,
   "metadata": {},
   "outputs": [],
   "source": [
    "X = torch.from_numpy(X)\n",
    "y = torch.from_numpy(y)"
   ]
  },
  {
   "cell_type": "code",
   "execution_count": 7,
   "metadata": {},
   "outputs": [],
   "source": [
    "class Network(nn.Module):\n",
    "    def __init__(self, input_size, output_size, hidden_layers):\n",
    "        super().__init__()\n",
    "        # Input to a hidden layer\n",
    "        self.hidden_layers = nn.ModuleList([nn.Linear(input_size, hidden_layers[0])])\n",
    "        \n",
    "        # Add a variable number of more hidden layers\n",
    "        layer_sizes = zip(hidden_layers[:-1], hidden_layers[1:])\n",
    "        self.hidden_layers.extend([nn.Linear(h1, h2) for h1, h2 in layer_sizes])\n",
    "        self.output = nn.Linear(hidden_layers[-1], output_size)\n",
    "\n",
    "    def forward(self, x, y):     \n",
    "        for each in self.hidden_layers:\n",
    "            z = F.softmax(each(x))\n",
    "            x = torch.mul(z, x)\n",
    "        #x = self.output(x)\n",
    "        return self.output(x)\n",
    "    \n",
    "    def att_vector(self, x, y):\n",
    "        for each in self.hidden_layers:\n",
    "            z = F.softmax(each(x))\n",
    "        return z\n"
   ]
  },
  {
   "cell_type": "code",
   "execution_count": 8,
   "metadata": {},
   "outputs": [],
   "source": [
    "model = Network(n_features, n_classes, [n_hidden])\n",
    "criterion = nn.BCEWithLogitsLoss()\n",
    "optimizer = optim.Adam(model.parameters(), lr=0.01)"
   ]
  },
  {
   "cell_type": "code",
   "execution_count": 9,
   "metadata": {},
   "outputs": [],
   "source": [
    "def train(model, inputs, labels, criterion, optimizer, epochs, batch_size, print_every):\n",
    "    steps = 0\n",
    "    running_loss = 0\n",
    "    \n",
    "    for e in range(epochs):\n",
    "        model.train()\n",
    "        \n",
    "        mb_indices = np.random.choice(X.shape[0], batch_size)\n",
    "        \n",
    "        X_train = X[mb_indices]\n",
    "        y_train = y[mb_indices]\n",
    "        \n",
    "        optimizer.zero_grad()\n",
    "\n",
    "        output = model.forward(X_train, y_train)\n",
    "        #print(output.size(), y_train.size())\n",
    "        loss = criterion(output, y_train)\n",
    "        loss.backward()\n",
    "        optimizer.step()\n",
    "        \n",
    "        running_loss += loss.item()\n",
    "        \n",
    "        if e%print_every == 0:\n",
    "            model.eval()\n",
    "\n",
    "            print(\"Epoch: {}/{}.. \".format(e, epochs),\n",
    "                  \"Training Loss: {:.3f}.. \".format(running_loss/print_every))\n",
    "                \n",
    "            running_loss = 0\n",
    "            model.train()"
   ]
  },
  {
   "cell_type": "code",
   "execution_count": 10,
   "metadata": {},
   "outputs": [
    {
     "name": "stderr",
     "output_type": "stream",
     "text": [
      "/home/q1park/anaconda3/envs/py36/lib/python3.6/site-packages/ipykernel_launcher.py:14: UserWarning: Implicit dimension choice for softmax has been deprecated. Change the call to include dim=X as an argument.\n",
      "  \n"
     ]
    },
    {
     "name": "stdout",
     "output_type": "stream",
     "text": [
      "Epoch: 0/5000..  Training Loss: 0.001.. \n",
      "Epoch: 500/5000..  Training Loss: 0.419.. \n",
      "Epoch: 1000/5000..  Training Loss: 0.077.. \n",
      "Epoch: 1500/5000..  Training Loss: 0.042.. \n",
      "Epoch: 2000/5000..  Training Loss: 0.029.. \n",
      "Epoch: 2500/5000..  Training Loss: 0.021.. \n",
      "Epoch: 3000/5000..  Training Loss: 0.018.. \n",
      "Epoch: 3500/5000..  Training Loss: 0.014.. \n",
      "Epoch: 4000/5000..  Training Loss: 0.013.. \n",
      "Epoch: 4500/5000..  Training Loss: 0.013.. \n"
     ]
    }
   ],
   "source": [
    "train(model, X, y, criterion, optimizer, 5000, 64, 500)"
   ]
  },
  {
   "cell_type": "code",
   "execution_count": 13,
   "metadata": {},
   "outputs": [
    {
     "name": "stderr",
     "output_type": "stream",
     "text": [
      "/home/q1park/anaconda3/envs/py36/lib/python3.6/site-packages/ipykernel_launcher.py:21: UserWarning: Implicit dimension choice for softmax has been deprecated. Change the call to include dim=X as an argument.\n"
     ]
    },
    {
     "data": {
      "text/plain": [
       "array([3.04527778e-01, 2.54949094e-01, 4.40589143e-02, 3.79840961e-02,\n",
       "       2.77683146e-02, 4.98704459e-03, 1.95136788e-02, 4.71203965e-02,\n",
       "       4.11730033e-02, 1.55679578e-05, 4.61321854e-02, 4.44755407e-02,\n",
       "       2.72620119e-02, 5.23196867e-02, 2.26416478e-02, 2.50710391e-02])"
      ]
     },
     "execution_count": 13,
     "metadata": {},
     "output_type": "execute_result"
    }
   ],
   "source": [
    "attention_vector = model.att_vector(X, y)\n",
    "np.mean(attention_vector.detach().numpy(), axis=0) "
   ]
  },
  {
   "cell_type": "code",
   "execution_count": 14,
   "metadata": {},
   "outputs": [
    {
     "data": {
      "image/png": "[encoded data removed]",
      "text/plain": [
       "<Figure size 432x288 with 1 Axes>"
      ]
     },
     "metadata": {
      "needs_background": "light"
     },
     "output_type": "display_data"
    }
   ],
   "source": [
    "# which features should we attend to?\n",
    "plt.bar(x = np.arange(n_features), height = np.mean(attention_vector.detach().numpy(), axis=0));\n",
    "plt.xlabel(\"feature\");\n",
    "plt.ylabel(\"attention\");\n",
    "plt.title(\"attention vector\");"
   ]
  }
 ],
 "metadata": {
  "kernelspec": {
   "display_name": "Python 3",
   "language": "python",
   "name": "python3"
  },
  "language_info": {
   "codemirror_mode": {
    "name": "ipython",
    "version": 3
   },
   "file_extension": ".py",
   "mimetype": "text/x-python",
   "name": "python",
   "nbconvert_exporter": "python",
   "pygments_lexer": "ipython3",
   "version": "3.6.7"
  }
 },
 "nbformat": 4,
 "nbformat_minor": 2
}
